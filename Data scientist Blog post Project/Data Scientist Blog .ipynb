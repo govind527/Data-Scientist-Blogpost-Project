{
 "cells": [
  {
   "cell_type": "markdown",
   "metadata": {},
   "source": [
    "# Project Motivation\n",
    "For this project, I was interestested in using Stack Overflow data from 2017 to better understand:\n",
    "\n",
    "1. Which Countries People embrace work from Home Most?\n",
    "2. Is the developer’s salary related to their activity level on Stack Overflow?\n",
    "3. Is the status of the user account related to user behavior? "
   ]
  },
  {
   "cell_type": "markdown",
   "metadata": {},
   "source": [
    "#  Data Understanding\n",
    "In order to get a better understanding of the data, let's take a look at some of the characteristics of the dataset.\n",
    "\n",
    "First, let's read in the data and necessary libraries."
   ]
  },
  {
   "cell_type": "code",
   "execution_count": 3,
   "metadata": {},
   "outputs": [],
   "source": [
    "import numpy as np\n",
    "import pandas as pd\n",
    "import matplotlib.pyplot as plt\n",
    "import seaborn as sns\n",
    "%matplotlib inline"
   ]
  },
  {
   "cell_type": "code",
   "execution_count": 4,
   "metadata": {},
   "outputs": [
    {
     "data": {
      "text/html": [
       "<div>\n",
       "<style scoped>\n",
       "    .dataframe tbody tr th:only-of-type {\n",
       "        vertical-align: middle;\n",
       "    }\n",
       "\n",
       "    .dataframe tbody tr th {\n",
       "        vertical-align: top;\n",
       "    }\n",
       "\n",
       "    .dataframe thead th {\n",
       "        text-align: right;\n",
       "    }\n",
       "</style>\n",
       "<table border=\"1\" class=\"dataframe\">\n",
       "  <thead>\n",
       "    <tr style=\"text-align: right;\">\n",
       "      <th></th>\n",
       "      <th>Respondent</th>\n",
       "      <th>Professional</th>\n",
       "      <th>ProgramHobby</th>\n",
       "      <th>Country</th>\n",
       "      <th>University</th>\n",
       "      <th>EmploymentStatus</th>\n",
       "      <th>FormalEducation</th>\n",
       "      <th>MajorUndergrad</th>\n",
       "      <th>HomeRemote</th>\n",
       "      <th>CompanySize</th>\n",
       "      <th>...</th>\n",
       "      <th>StackOverflowMakeMoney</th>\n",
       "      <th>Gender</th>\n",
       "      <th>HighestEducationParents</th>\n",
       "      <th>Race</th>\n",
       "      <th>SurveyLong</th>\n",
       "      <th>QuestionsInteresting</th>\n",
       "      <th>QuestionsConfusing</th>\n",
       "      <th>InterestedAnswers</th>\n",
       "      <th>Salary</th>\n",
       "      <th>ExpectedSalary</th>\n",
       "    </tr>\n",
       "  </thead>\n",
       "  <tbody>\n",
       "    <tr>\n",
       "      <td>0</td>\n",
       "      <td>1</td>\n",
       "      <td>Student</td>\n",
       "      <td>Yes, both</td>\n",
       "      <td>United States</td>\n",
       "      <td>No</td>\n",
       "      <td>Not employed, and not looking for work</td>\n",
       "      <td>Secondary school</td>\n",
       "      <td>NaN</td>\n",
       "      <td>NaN</td>\n",
       "      <td>NaN</td>\n",
       "      <td>...</td>\n",
       "      <td>Strongly disagree</td>\n",
       "      <td>Male</td>\n",
       "      <td>High school</td>\n",
       "      <td>White or of European descent</td>\n",
       "      <td>Strongly disagree</td>\n",
       "      <td>Strongly agree</td>\n",
       "      <td>Disagree</td>\n",
       "      <td>Strongly agree</td>\n",
       "      <td>NaN</td>\n",
       "      <td>NaN</td>\n",
       "    </tr>\n",
       "    <tr>\n",
       "      <td>1</td>\n",
       "      <td>2</td>\n",
       "      <td>Student</td>\n",
       "      <td>Yes, both</td>\n",
       "      <td>United Kingdom</td>\n",
       "      <td>Yes, full-time</td>\n",
       "      <td>Employed part-time</td>\n",
       "      <td>Some college/university study without earning ...</td>\n",
       "      <td>Computer science or software engineering</td>\n",
       "      <td>More than half, but not all, the time</td>\n",
       "      <td>20 to 99 employees</td>\n",
       "      <td>...</td>\n",
       "      <td>Strongly disagree</td>\n",
       "      <td>Male</td>\n",
       "      <td>A master's degree</td>\n",
       "      <td>White or of European descent</td>\n",
       "      <td>Somewhat agree</td>\n",
       "      <td>Somewhat agree</td>\n",
       "      <td>Disagree</td>\n",
       "      <td>Strongly agree</td>\n",
       "      <td>NaN</td>\n",
       "      <td>37500.0</td>\n",
       "    </tr>\n",
       "    <tr>\n",
       "      <td>2</td>\n",
       "      <td>3</td>\n",
       "      <td>Professional developer</td>\n",
       "      <td>Yes, both</td>\n",
       "      <td>United Kingdom</td>\n",
       "      <td>No</td>\n",
       "      <td>Employed full-time</td>\n",
       "      <td>Bachelor's degree</td>\n",
       "      <td>Computer science or software engineering</td>\n",
       "      <td>Less than half the time, but at least one day ...</td>\n",
       "      <td>10,000 or more employees</td>\n",
       "      <td>...</td>\n",
       "      <td>Disagree</td>\n",
       "      <td>Male</td>\n",
       "      <td>A professional degree</td>\n",
       "      <td>White or of European descent</td>\n",
       "      <td>Somewhat agree</td>\n",
       "      <td>Agree</td>\n",
       "      <td>Disagree</td>\n",
       "      <td>Agree</td>\n",
       "      <td>113750.0</td>\n",
       "      <td>NaN</td>\n",
       "    </tr>\n",
       "    <tr>\n",
       "      <td>3</td>\n",
       "      <td>4</td>\n",
       "      <td>Professional non-developer who sometimes write...</td>\n",
       "      <td>Yes, both</td>\n",
       "      <td>United States</td>\n",
       "      <td>No</td>\n",
       "      <td>Employed full-time</td>\n",
       "      <td>Doctoral degree</td>\n",
       "      <td>A non-computer-focused engineering discipline</td>\n",
       "      <td>Less than half the time, but at least one day ...</td>\n",
       "      <td>10,000 or more employees</td>\n",
       "      <td>...</td>\n",
       "      <td>Disagree</td>\n",
       "      <td>Male</td>\n",
       "      <td>A doctoral degree</td>\n",
       "      <td>White or of European descent</td>\n",
       "      <td>Agree</td>\n",
       "      <td>Agree</td>\n",
       "      <td>Somewhat agree</td>\n",
       "      <td>Strongly agree</td>\n",
       "      <td>NaN</td>\n",
       "      <td>NaN</td>\n",
       "    </tr>\n",
       "    <tr>\n",
       "      <td>4</td>\n",
       "      <td>5</td>\n",
       "      <td>Professional developer</td>\n",
       "      <td>Yes, I program as a hobby</td>\n",
       "      <td>Switzerland</td>\n",
       "      <td>No</td>\n",
       "      <td>Employed full-time</td>\n",
       "      <td>Master's degree</td>\n",
       "      <td>Computer science or software engineering</td>\n",
       "      <td>Never</td>\n",
       "      <td>10 to 19 employees</td>\n",
       "      <td>...</td>\n",
       "      <td>NaN</td>\n",
       "      <td>NaN</td>\n",
       "      <td>NaN</td>\n",
       "      <td>NaN</td>\n",
       "      <td>NaN</td>\n",
       "      <td>NaN</td>\n",
       "      <td>NaN</td>\n",
       "      <td>NaN</td>\n",
       "      <td>NaN</td>\n",
       "      <td>NaN</td>\n",
       "    </tr>\n",
       "    <tr>\n",
       "      <td>...</td>\n",
       "      <td>...</td>\n",
       "      <td>...</td>\n",
       "      <td>...</td>\n",
       "      <td>...</td>\n",
       "      <td>...</td>\n",
       "      <td>...</td>\n",
       "      <td>...</td>\n",
       "      <td>...</td>\n",
       "      <td>...</td>\n",
       "      <td>...</td>\n",
       "      <td>...</td>\n",
       "      <td>...</td>\n",
       "      <td>...</td>\n",
       "      <td>...</td>\n",
       "      <td>...</td>\n",
       "      <td>...</td>\n",
       "      <td>...</td>\n",
       "      <td>...</td>\n",
       "      <td>...</td>\n",
       "      <td>...</td>\n",
       "      <td>...</td>\n",
       "    </tr>\n",
       "    <tr>\n",
       "      <td>51387</td>\n",
       "      <td>51388</td>\n",
       "      <td>Professional developer</td>\n",
       "      <td>Yes, I program as a hobby</td>\n",
       "      <td>United States</td>\n",
       "      <td>No</td>\n",
       "      <td>Employed full-time</td>\n",
       "      <td>Bachelor's degree</td>\n",
       "      <td>A social science</td>\n",
       "      <td>A few days each month</td>\n",
       "      <td>100 to 499 employees</td>\n",
       "      <td>...</td>\n",
       "      <td>Disagree</td>\n",
       "      <td>Male</td>\n",
       "      <td>A doctoral degree</td>\n",
       "      <td>East Asian; White or of European descent</td>\n",
       "      <td>Disagree</td>\n",
       "      <td>Agree</td>\n",
       "      <td>Strongly disagree</td>\n",
       "      <td>Strongly agree</td>\n",
       "      <td>58000.0</td>\n",
       "      <td>NaN</td>\n",
       "    </tr>\n",
       "    <tr>\n",
       "      <td>51388</td>\n",
       "      <td>51389</td>\n",
       "      <td>Student</td>\n",
       "      <td>No</td>\n",
       "      <td>Venezuela</td>\n",
       "      <td>Yes, full-time</td>\n",
       "      <td>Employed full-time</td>\n",
       "      <td>Master's degree</td>\n",
       "      <td>Computer programming or Web development</td>\n",
       "      <td>Never</td>\n",
       "      <td>100 to 499 employees</td>\n",
       "      <td>...</td>\n",
       "      <td>NaN</td>\n",
       "      <td>Male</td>\n",
       "      <td>A master's degree</td>\n",
       "      <td>Black or of African descent; Hispanic or Latin...</td>\n",
       "      <td>Somewhat agree</td>\n",
       "      <td>Agree</td>\n",
       "      <td>Disagree</td>\n",
       "      <td>Agree</td>\n",
       "      <td>NaN</td>\n",
       "      <td>NaN</td>\n",
       "    </tr>\n",
       "    <tr>\n",
       "      <td>51389</td>\n",
       "      <td>51390</td>\n",
       "      <td>Professional developer</td>\n",
       "      <td>Yes, I program as a hobby</td>\n",
       "      <td>Canada</td>\n",
       "      <td>No</td>\n",
       "      <td>Employed full-time</td>\n",
       "      <td>Some college/university study without earning ...</td>\n",
       "      <td>Information technology, networking, or system ...</td>\n",
       "      <td>Less than half the time, but at least one day ...</td>\n",
       "      <td>10 to 19 employees</td>\n",
       "      <td>...</td>\n",
       "      <td>NaN</td>\n",
       "      <td>NaN</td>\n",
       "      <td>NaN</td>\n",
       "      <td>NaN</td>\n",
       "      <td>NaN</td>\n",
       "      <td>NaN</td>\n",
       "      <td>NaN</td>\n",
       "      <td>NaN</td>\n",
       "      <td>NaN</td>\n",
       "      <td>NaN</td>\n",
       "    </tr>\n",
       "    <tr>\n",
       "      <td>51390</td>\n",
       "      <td>51391</td>\n",
       "      <td>Professional developer</td>\n",
       "      <td>Yes, I program as a hobby</td>\n",
       "      <td>United States</td>\n",
       "      <td>No</td>\n",
       "      <td>Employed full-time</td>\n",
       "      <td>Bachelor's degree</td>\n",
       "      <td>Computer science or software engineering</td>\n",
       "      <td>Never</td>\n",
       "      <td>Fewer than 10 employees</td>\n",
       "      <td>...</td>\n",
       "      <td>Disagree</td>\n",
       "      <td>Male</td>\n",
       "      <td>A bachelor's degree</td>\n",
       "      <td>White or of European descent</td>\n",
       "      <td>Disagree</td>\n",
       "      <td>Agree</td>\n",
       "      <td>Disagree</td>\n",
       "      <td>Strongly agree</td>\n",
       "      <td>40000.0</td>\n",
       "      <td>NaN</td>\n",
       "    </tr>\n",
       "    <tr>\n",
       "      <td>51391</td>\n",
       "      <td>51392</td>\n",
       "      <td>Professional non-developer who sometimes write...</td>\n",
       "      <td>No</td>\n",
       "      <td>Ireland</td>\n",
       "      <td>No</td>\n",
       "      <td>Employed full-time</td>\n",
       "      <td>Bachelor's degree</td>\n",
       "      <td>Computer science or software engineering</td>\n",
       "      <td>It's complicated</td>\n",
       "      <td>10,000 or more employees</td>\n",
       "      <td>...</td>\n",
       "      <td>Somewhat agree</td>\n",
       "      <td>Male</td>\n",
       "      <td>A bachelor's degree</td>\n",
       "      <td>White or of European descent</td>\n",
       "      <td>Somewhat agree</td>\n",
       "      <td>Strongly agree</td>\n",
       "      <td>Disagree</td>\n",
       "      <td>Strongly agree</td>\n",
       "      <td>NaN</td>\n",
       "      <td>NaN</td>\n",
       "    </tr>\n",
       "  </tbody>\n",
       "</table>\n",
       "<p>51392 rows × 154 columns</p>\n",
       "</div>"
      ],
      "text/plain": [
       "       Respondent                                       Professional  \\\n",
       "0               1                                            Student   \n",
       "1               2                                            Student   \n",
       "2               3                             Professional developer   \n",
       "3               4  Professional non-developer who sometimes write...   \n",
       "4               5                             Professional developer   \n",
       "...           ...                                                ...   \n",
       "51387       51388                             Professional developer   \n",
       "51388       51389                                            Student   \n",
       "51389       51390                             Professional developer   \n",
       "51390       51391                             Professional developer   \n",
       "51391       51392  Professional non-developer who sometimes write...   \n",
       "\n",
       "                    ProgramHobby         Country      University  \\\n",
       "0                      Yes, both   United States              No   \n",
       "1                      Yes, both  United Kingdom  Yes, full-time   \n",
       "2                      Yes, both  United Kingdom              No   \n",
       "3                      Yes, both   United States              No   \n",
       "4      Yes, I program as a hobby     Switzerland              No   \n",
       "...                          ...             ...             ...   \n",
       "51387  Yes, I program as a hobby   United States              No   \n",
       "51388                         No       Venezuela  Yes, full-time   \n",
       "51389  Yes, I program as a hobby          Canada              No   \n",
       "51390  Yes, I program as a hobby   United States              No   \n",
       "51391                         No         Ireland              No   \n",
       "\n",
       "                             EmploymentStatus  \\\n",
       "0      Not employed, and not looking for work   \n",
       "1                          Employed part-time   \n",
       "2                          Employed full-time   \n",
       "3                          Employed full-time   \n",
       "4                          Employed full-time   \n",
       "...                                       ...   \n",
       "51387                      Employed full-time   \n",
       "51388                      Employed full-time   \n",
       "51389                      Employed full-time   \n",
       "51390                      Employed full-time   \n",
       "51391                      Employed full-time   \n",
       "\n",
       "                                         FormalEducation  \\\n",
       "0                                       Secondary school   \n",
       "1      Some college/university study without earning ...   \n",
       "2                                      Bachelor's degree   \n",
       "3                                        Doctoral degree   \n",
       "4                                        Master's degree   \n",
       "...                                                  ...   \n",
       "51387                                  Bachelor's degree   \n",
       "51388                                    Master's degree   \n",
       "51389  Some college/university study without earning ...   \n",
       "51390                                  Bachelor's degree   \n",
       "51391                                  Bachelor's degree   \n",
       "\n",
       "                                          MajorUndergrad  \\\n",
       "0                                                    NaN   \n",
       "1               Computer science or software engineering   \n",
       "2               Computer science or software engineering   \n",
       "3          A non-computer-focused engineering discipline   \n",
       "4               Computer science or software engineering   \n",
       "...                                                  ...   \n",
       "51387                                   A social science   \n",
       "51388            Computer programming or Web development   \n",
       "51389  Information technology, networking, or system ...   \n",
       "51390           Computer science or software engineering   \n",
       "51391           Computer science or software engineering   \n",
       "\n",
       "                                              HomeRemote  \\\n",
       "0                                                    NaN   \n",
       "1                  More than half, but not all, the time   \n",
       "2      Less than half the time, but at least one day ...   \n",
       "3      Less than half the time, but at least one day ...   \n",
       "4                                                  Never   \n",
       "...                                                  ...   \n",
       "51387                              A few days each month   \n",
       "51388                                              Never   \n",
       "51389  Less than half the time, but at least one day ...   \n",
       "51390                                              Never   \n",
       "51391                                   It's complicated   \n",
       "\n",
       "                    CompanySize  ... StackOverflowMakeMoney Gender  \\\n",
       "0                           NaN  ...      Strongly disagree   Male   \n",
       "1            20 to 99 employees  ...      Strongly disagree   Male   \n",
       "2      10,000 or more employees  ...               Disagree   Male   \n",
       "3      10,000 or more employees  ...               Disagree   Male   \n",
       "4            10 to 19 employees  ...                    NaN    NaN   \n",
       "...                         ...  ...                    ...    ...   \n",
       "51387      100 to 499 employees  ...               Disagree   Male   \n",
       "51388      100 to 499 employees  ...                    NaN   Male   \n",
       "51389        10 to 19 employees  ...                    NaN    NaN   \n",
       "51390   Fewer than 10 employees  ...               Disagree   Male   \n",
       "51391  10,000 or more employees  ...         Somewhat agree   Male   \n",
       "\n",
       "      HighestEducationParents  \\\n",
       "0                 High school   \n",
       "1           A master's degree   \n",
       "2       A professional degree   \n",
       "3           A doctoral degree   \n",
       "4                         NaN   \n",
       "...                       ...   \n",
       "51387       A doctoral degree   \n",
       "51388       A master's degree   \n",
       "51389                     NaN   \n",
       "51390     A bachelor's degree   \n",
       "51391     A bachelor's degree   \n",
       "\n",
       "                                                    Race         SurveyLong  \\\n",
       "0                           White or of European descent  Strongly disagree   \n",
       "1                           White or of European descent     Somewhat agree   \n",
       "2                           White or of European descent     Somewhat agree   \n",
       "3                           White or of European descent              Agree   \n",
       "4                                                    NaN                NaN   \n",
       "...                                                  ...                ...   \n",
       "51387           East Asian; White or of European descent           Disagree   \n",
       "51388  Black or of African descent; Hispanic or Latin...     Somewhat agree   \n",
       "51389                                                NaN                NaN   \n",
       "51390                       White or of European descent           Disagree   \n",
       "51391                       White or of European descent     Somewhat agree   \n",
       "\n",
       "      QuestionsInteresting QuestionsConfusing InterestedAnswers    Salary  \\\n",
       "0           Strongly agree           Disagree    Strongly agree       NaN   \n",
       "1           Somewhat agree           Disagree    Strongly agree       NaN   \n",
       "2                    Agree           Disagree             Agree  113750.0   \n",
       "3                    Agree     Somewhat agree    Strongly agree       NaN   \n",
       "4                      NaN                NaN               NaN       NaN   \n",
       "...                    ...                ...               ...       ...   \n",
       "51387                Agree  Strongly disagree    Strongly agree   58000.0   \n",
       "51388                Agree           Disagree             Agree       NaN   \n",
       "51389                  NaN                NaN               NaN       NaN   \n",
       "51390                Agree           Disagree    Strongly agree   40000.0   \n",
       "51391       Strongly agree           Disagree    Strongly agree       NaN   \n",
       "\n",
       "       ExpectedSalary  \n",
       "0                 NaN  \n",
       "1             37500.0  \n",
       "2                 NaN  \n",
       "3                 NaN  \n",
       "4                 NaN  \n",
       "...               ...  \n",
       "51387             NaN  \n",
       "51388             NaN  \n",
       "51389             NaN  \n",
       "51390             NaN  \n",
       "51391             NaN  \n",
       "\n",
       "[51392 rows x 154 columns]"
      ]
     },
     "execution_count": 4,
     "metadata": {},
     "output_type": "execute_result"
    }
   ],
   "source": [
    "df=pd.read_csv('./survey_results_public.csv')\n",
    "df"
   ]
  },
  {
   "cell_type": "markdown",
   "metadata": {},
   "source": [
    "The data in the survey_results_public.csv is the result of the survey, with a total of 154 columns. Save it in df.\n",
    "\n"
   ]
  },
  {
   "cell_type": "code",
   "execution_count": 5,
   "metadata": {},
   "outputs": [
    {
     "data": {
      "text/html": [
       "<div>\n",
       "<style scoped>\n",
       "    .dataframe tbody tr th:only-of-type {\n",
       "        vertical-align: middle;\n",
       "    }\n",
       "\n",
       "    .dataframe tbody tr th {\n",
       "        vertical-align: top;\n",
       "    }\n",
       "\n",
       "    .dataframe thead th {\n",
       "        text-align: right;\n",
       "    }\n",
       "</style>\n",
       "<table border=\"1\" class=\"dataframe\">\n",
       "  <thead>\n",
       "    <tr style=\"text-align: right;\">\n",
       "      <th></th>\n",
       "      <th>Column</th>\n",
       "      <th>Question</th>\n",
       "    </tr>\n",
       "  </thead>\n",
       "  <tbody>\n",
       "    <tr>\n",
       "      <td>0</td>\n",
       "      <td>Respondent</td>\n",
       "      <td>Respondent ID number</td>\n",
       "    </tr>\n",
       "    <tr>\n",
       "      <td>1</td>\n",
       "      <td>Professional</td>\n",
       "      <td>Which of the following best describes you?</td>\n",
       "    </tr>\n",
       "    <tr>\n",
       "      <td>2</td>\n",
       "      <td>ProgramHobby</td>\n",
       "      <td>Do you program as a hobby or contribute to ope...</td>\n",
       "    </tr>\n",
       "    <tr>\n",
       "      <td>3</td>\n",
       "      <td>Country</td>\n",
       "      <td>In which country do you currently live?</td>\n",
       "    </tr>\n",
       "    <tr>\n",
       "      <td>4</td>\n",
       "      <td>University</td>\n",
       "      <td>Are you currently enrolled in a formal, degree...</td>\n",
       "    </tr>\n",
       "  </tbody>\n",
       "</table>\n",
       "</div>"
      ],
      "text/plain": [
       "         Column                                           Question\n",
       "0    Respondent                               Respondent ID number\n",
       "1  Professional         Which of the following best describes you?\n",
       "2  ProgramHobby  Do you program as a hobby or contribute to ope...\n",
       "3       Country            In which country do you currently live?\n",
       "4    University  Are you currently enrolled in a formal, degree..."
      ]
     },
     "execution_count": 5,
     "metadata": {},
     "output_type": "execute_result"
    }
   ],
   "source": [
    "df_info=pd.read_csv('survey_results_schema.csv')\n",
    "df_info.head()"
   ]
  },
  {
   "cell_type": "markdown",
   "metadata": {},
   "source": [
    "The file survey_results_schema.csv provides survey schema, i.e., the questions that correspond to each column name. Save it in df_info.\n",
    "\n"
   ]
  },
  {
   "cell_type": "markdown",
   "metadata": {},
   "source": [
    "# Assess Data\n",
    "The following cells checks number of columns, missing values, etc to better understand the data we have."
   ]
  },
  {
   "cell_type": "code",
   "execution_count": 6,
   "metadata": {},
   "outputs": [
    {
     "data": {
      "text/html": [
       "<div>\n",
       "<style scoped>\n",
       "    .dataframe tbody tr th:only-of-type {\n",
       "        vertical-align: middle;\n",
       "    }\n",
       "\n",
       "    .dataframe tbody tr th {\n",
       "        vertical-align: top;\n",
       "    }\n",
       "\n",
       "    .dataframe thead th {\n",
       "        text-align: right;\n",
       "    }\n",
       "</style>\n",
       "<table border=\"1\" class=\"dataframe\">\n",
       "  <thead>\n",
       "    <tr style=\"text-align: right;\">\n",
       "      <th></th>\n",
       "      <th>Respondent</th>\n",
       "      <th>CareerSatisfaction</th>\n",
       "      <th>JobSatisfaction</th>\n",
       "      <th>HoursPerWeek</th>\n",
       "      <th>StackOverflowSatisfaction</th>\n",
       "      <th>Salary</th>\n",
       "      <th>ExpectedSalary</th>\n",
       "    </tr>\n",
       "  </thead>\n",
       "  <tbody>\n",
       "    <tr>\n",
       "      <td>count</td>\n",
       "      <td>51392.000000</td>\n",
       "      <td>42695.000000</td>\n",
       "      <td>40376.000000</td>\n",
       "      <td>20600.000000</td>\n",
       "      <td>36592.000000</td>\n",
       "      <td>12891.000000</td>\n",
       "      <td>2566.000000</td>\n",
       "    </tr>\n",
       "    <tr>\n",
       "      <td>mean</td>\n",
       "      <td>25696.500000</td>\n",
       "      <td>7.300574</td>\n",
       "      <td>6.957078</td>\n",
       "      <td>3.952282</td>\n",
       "      <td>8.429875</td>\n",
       "      <td>56298.480641</td>\n",
       "      <td>33142.220468</td>\n",
       "    </tr>\n",
       "    <tr>\n",
       "      <td>std</td>\n",
       "      <td>14835.736854</td>\n",
       "      <td>1.955444</td>\n",
       "      <td>2.167652</td>\n",
       "      <td>7.564722</td>\n",
       "      <td>1.390635</td>\n",
       "      <td>39880.905277</td>\n",
       "      <td>30162.988829</td>\n",
       "    </tr>\n",
       "    <tr>\n",
       "      <td>min</td>\n",
       "      <td>1.000000</td>\n",
       "      <td>0.000000</td>\n",
       "      <td>0.000000</td>\n",
       "      <td>0.000000</td>\n",
       "      <td>0.000000</td>\n",
       "      <td>0.000000</td>\n",
       "      <td>0.000000</td>\n",
       "    </tr>\n",
       "    <tr>\n",
       "      <td>25%</td>\n",
       "      <td>12848.750000</td>\n",
       "      <td>6.000000</td>\n",
       "      <td>6.000000</td>\n",
       "      <td>1.000000</td>\n",
       "      <td>8.000000</td>\n",
       "      <td>26440.371839</td>\n",
       "      <td>4490.492484</td>\n",
       "    </tr>\n",
       "    <tr>\n",
       "      <td>50%</td>\n",
       "      <td>25696.500000</td>\n",
       "      <td>8.000000</td>\n",
       "      <td>7.000000</td>\n",
       "      <td>1.000000</td>\n",
       "      <td>9.000000</td>\n",
       "      <td>50000.000000</td>\n",
       "      <td>29364.263691</td>\n",
       "    </tr>\n",
       "    <tr>\n",
       "      <td>75%</td>\n",
       "      <td>38544.250000</td>\n",
       "      <td>9.000000</td>\n",
       "      <td>8.000000</td>\n",
       "      <td>4.000000</td>\n",
       "      <td>10.000000</td>\n",
       "      <td>80000.000000</td>\n",
       "      <td>50403.225806</td>\n",
       "    </tr>\n",
       "    <tr>\n",
       "      <td>max</td>\n",
       "      <td>51392.000000</td>\n",
       "      <td>10.000000</td>\n",
       "      <td>10.000000</td>\n",
       "      <td>40.000000</td>\n",
       "      <td>10.000000</td>\n",
       "      <td>197000.000000</td>\n",
       "      <td>187500.000000</td>\n",
       "    </tr>\n",
       "  </tbody>\n",
       "</table>\n",
       "</div>"
      ],
      "text/plain": [
       "         Respondent  CareerSatisfaction  JobSatisfaction  HoursPerWeek  \\\n",
       "count  51392.000000        42695.000000     40376.000000  20600.000000   \n",
       "mean   25696.500000            7.300574         6.957078      3.952282   \n",
       "std    14835.736854            1.955444         2.167652      7.564722   \n",
       "min        1.000000            0.000000         0.000000      0.000000   \n",
       "25%    12848.750000            6.000000         6.000000      1.000000   \n",
       "50%    25696.500000            8.000000         7.000000      1.000000   \n",
       "75%    38544.250000            9.000000         8.000000      4.000000   \n",
       "max    51392.000000           10.000000        10.000000     40.000000   \n",
       "\n",
       "       StackOverflowSatisfaction         Salary  ExpectedSalary  \n",
       "count               36592.000000   12891.000000     2566.000000  \n",
       "mean                    8.429875   56298.480641    33142.220468  \n",
       "std                     1.390635   39880.905277    30162.988829  \n",
       "min                     0.000000       0.000000        0.000000  \n",
       "25%                     8.000000   26440.371839     4490.492484  \n",
       "50%                     9.000000   50000.000000    29364.263691  \n",
       "75%                    10.000000   80000.000000    50403.225806  \n",
       "max                    10.000000  197000.000000   187500.000000  "
      ]
     },
     "execution_count": 6,
     "metadata": {},
     "output_type": "execute_result"
    }
   ],
   "source": [
    "df.describe()"
   ]
  },
  {
   "cell_type": "code",
   "execution_count": 7,
   "metadata": {},
   "outputs": [
    {
     "data": {
      "text/plain": [
       "Respondent                  0\n",
       "Professional                0\n",
       "ProgramHobby                0\n",
       "Country                     0\n",
       "University                  0\n",
       "                        ...  \n",
       "QuestionsInteresting    16856\n",
       "QuestionsConfusing      16973\n",
       "InterestedAnswers       16780\n",
       "Salary                  38501\n",
       "ExpectedSalary          48826\n",
       "Length: 154, dtype: int64"
      ]
     },
     "execution_count": 7,
     "metadata": {},
     "output_type": "execute_result"
    }
   ],
   "source": [
    "df.isnull().sum()"
   ]
  },
  {
   "cell_type": "markdown",
   "metadata": {},
   "source": [
    "# Question1: Which Countries People embrace work from Home Most?\n",
    "## 1. Gather Neccesary Data\n",
    "\n",
    "To answer this question, I will\n",
    "\n",
    "1. Look at HomeRemote and Country column\n",
    "2. Calculate the proporition of work from home respondents for each country\n",
    "3. Create a bar plot to show the results"
   ]
  },
  {
   "cell_type": "markdown",
   "metadata": {},
   "source": [
    "# Prepare Data for Question 1\n",
    "The following cells prepare data to answer the first question. The data are cleaned, missing values are handled, and new feature columns are derived.\n",
    "\n",
    "1. There is no missing value in Country column.\n",
    "2. A new column WorkFromHome is created based on a categorical variable HomeRemote using the following logic:\n",
    "\n",
    "True: \"About half the time\", \"All or almost all the time (I'm full-time remote)\",\"More than half, but not all, the time\", \"Less than half the time, but at least one day each week\"\n",
    "\n",
    "False: 'Never', 'A few days each month', or missing values"
   ]
  },
  {
   "cell_type": "code",
   "execution_count": 8,
   "metadata": {},
   "outputs": [
    {
     "data": {
      "text/plain": [
       "<matplotlib.axes._subplots.AxesSubplot at 0x1e493398d48>"
      ]
     },
     "execution_count": 8,
     "metadata": {},
     "output_type": "execute_result"
    },
    {
     "data": {
      "image/png": "[encoded data removed]",
      "text/plain": [
       "<Figure size 432x288 with 1 Axes>"
      ]
     },
     "metadata": {
      "needs_background": "light"
     },
     "output_type": "display_data"
    }
   ],
   "source": [
    "sns.countplot(y='HomeRemote',data=df)"
   ]
  },
  {
   "cell_type": "code",
   "execution_count": 9,
   "metadata": {},
   "outputs": [],
   "source": [
    "#Drop the row of Nan value in Columns HomeRemote or Country\n",
    "df_WFH=df.dropna(subset=['HomeRemote','Country'],axis=0)"
   ]
  },
  {
   "cell_type": "code",
   "execution_count": 10,
   "metadata": {},
   "outputs": [],
   "source": [
    "#Drop the row if it has It's complicated in HomeRemote Column\n",
    "df_WFH=df_WFH[(df_WFH['HomeRemote']!=\"It's complicated\")]"
   ]
  },
  {
   "cell_type": "code",
   "execution_count": 11,
   "metadata": {},
   "outputs": [
    {
     "data": {
      "text/plain": [
       "array(['More than half, but not all, the time',\n",
       "       'Less than half the time, but at least one day each week', 'Never',\n",
       "       \"All or almost all the time (I'm full-time remote)\",\n",
       "       'A few days each month', 'About half the time'], dtype=object)"
      ]
     },
     "execution_count": 11,
     "metadata": {},
     "output_type": "execute_result"
    }
   ],
   "source": [
    "df_WFH['HomeRemote'].unique()\n"
   ]
  },
  {
   "cell_type": "code",
   "execution_count": 12,
   "metadata": {},
   "outputs": [],
   "source": [
    "#Drop the row if Country has less than 300 responents because we want top country \n",
    "country_count=df_WFH['Country'].value_counts()\n",
    "country_count=country_count[country_count>=300]\n",
    "countries=list(country_count.index)"
   ]
  },
  {
   "cell_type": "code",
   "execution_count": 13,
   "metadata": {},
   "outputs": [],
   "source": [
    "df_WFH=df_WFH[df_WFH['Country'].isin(countries)]"
   ]
  },
  {
   "cell_type": "code",
   "execution_count": 14,
   "metadata": {},
   "outputs": [],
   "source": [
    "# Add new column WorkFromHome for Responents Response\n",
    "df_WFH['WorkFromHome']=df_WFH['HomeRemote'].isin(['About half the time', \n",
    "                                                     \"All or almost all the time (I'm full-time remote)\",\n",
    "                                                     \"More than half, but not all, the time\",\n",
    "                                                     \"Less than half the time, but at least one day each week\"])"
   ]
  },
  {
   "cell_type": "code",
   "execution_count": 15,
   "metadata": {},
   "outputs": [
    {
     "data": {
      "text/plain": [
       "0"
      ]
     },
     "execution_count": 15,
     "metadata": {},
     "output_type": "execute_result"
    }
   ],
   "source": [
    "df_WFH['WorkFromHome'].isna().sum()"
   ]
  },
  {
   "cell_type": "markdown",
   "metadata": {},
   "source": [
    "## Model/Analyze Data for Question 1\n",
    "\n",
    "The proporition of respondents who work from home is calculated for each country. The results are sorted in descending order, so that the countries with highest proportion of work from home developers are at the top of the list."
   ]
  },
  {
   "cell_type": "code",
   "execution_count": 16,
   "metadata": {},
   "outputs": [],
   "source": [
    "country_WFH=df_WFH.groupby(['Country'])['WorkFromHome'].mean().sort_values(ascending=False)"
   ]
  },
  {
   "cell_type": "code",
   "execution_count": 17,
   "metadata": {},
   "outputs": [
    {
     "data": {
      "text/plain": [
       "Country\n",
       "Iran                  0.521635\n",
       "Pakistan              0.464183\n",
       "Czech Republic        0.401709\n",
       "Ukraine               0.393548\n",
       "Russian Federation    0.381699\n",
       "Mexico                0.352564\n",
       "United States         0.325871\n",
       "Italy                 0.315705\n",
       "India                 0.312774\n",
       "Brazil                0.311927\n",
       "Australia             0.294679\n",
       "Poland                0.293040\n",
       "Romania               0.266667\n",
       "Canada                0.259504\n",
       "South Africa          0.254658\n",
       "Israel                0.253579\n",
       "Spain                 0.250000\n",
       "Netherlands           0.249284\n",
       "United Kingdom        0.240164\n",
       "France                0.238950\n",
       "Germany               0.223456\n",
       "Austria               0.216080\n",
       "Belgium               0.206587\n",
       "Switzerland           0.192308\n",
       "Sweden                0.179134\n",
       "Name: WorkFromHome, dtype: float64"
      ]
     },
     "execution_count": 17,
     "metadata": {},
     "output_type": "execute_result"
    }
   ],
   "source": [
    "country_WFH"
   ]
  },
  {
   "cell_type": "markdown",
   "metadata": {},
   "source": [
    "## Visialize Results for Question 1\n",
    "A bar chart is generated based on the analysis results. "
   ]
  },
  {
   "cell_type": "code",
   "execution_count": 18,
   "metadata": {},
   "outputs": [
    {
     "data": {
      "text/plain": [
       "<matplotlib.axes._subplots.AxesSubplot at 0x1e494119988>"
      ]
     },
     "execution_count": 18,
     "metadata": {},
     "output_type": "execute_result"
    },
    {
     "data": {
      "image/png": "[encoded data removed]",
      "text/plain": [
       "<Figure size 720x1080 with 1 Axes>"
      ]
     },
     "metadata": {
      "needs_background": "light"
     },
     "output_type": "display_data"
    }
   ],
   "source": [
    "plt.figure(figsize=(10,15))\n",
    "sns.barplot(y=country_WFH.index,x=country_WFH,color=sns.color_palette()[0])"
   ]
  },
  {
   "cell_type": "code",
   "execution_count": 19,
   "metadata": {},
   "outputs": [
    {
     "data": {
      "text/plain": [
       "0.28938963284203123"
      ]
     },
     "execution_count": 19,
     "metadata": {},
     "output_type": "execute_result"
    }
   ],
   "source": [
    "df_WFH['WorkFromHome'].mean()"
   ]
  },
  {
   "cell_type": "markdown",
   "metadata": {},
   "source": [
    "### Observation for Question 1\n",
    "Work from Home is More popular in these Contries:Iran,Pakistan,Czech Replubic, Ukraine,Russian Federation,Mexico,United States,\n",
    "Italy,India,Brazil etc.\n",
    "\n"
   ]
  },
  {
   "cell_type": "markdown",
   "metadata": {},
   "source": [
    "# Question 2 Is the developer’s salary related to their activity level on Stack Overflow?\n"
   ]
  },
  {
   "cell_type": "markdown",
   "metadata": {},
   "source": [
    "## 1.  Gather necessary data\n",
    "\n",
    "Let's look at column StackOverflowDescribes to see how many respondents have registered and filled out their personal information on StackOverflow."
   ]
  },
  {
   "cell_type": "code",
   "execution_count": 20,
   "metadata": {},
   "outputs": [
    {
     "data": {
      "text/html": [
       "<div>\n",
       "<style scoped>\n",
       "    .dataframe tbody tr th:only-of-type {\n",
       "        vertical-align: middle;\n",
       "    }\n",
       "\n",
       "    .dataframe tbody tr th {\n",
       "        vertical-align: top;\n",
       "    }\n",
       "\n",
       "    .dataframe thead th {\n",
       "        text-align: right;\n",
       "    }\n",
       "</style>\n",
       "<table border=\"1\" class=\"dataframe\">\n",
       "  <thead>\n",
       "    <tr style=\"text-align: right;\">\n",
       "      <th></th>\n",
       "      <th>index</th>\n",
       "      <th>count</th>\n",
       "      <th>Perct</th>\n",
       "    </tr>\n",
       "  </thead>\n",
       "  <tbody>\n",
       "    <tr>\n",
       "      <td>0</td>\n",
       "      <td>I have a login for Stack Overflow, but haven't...</td>\n",
       "      <td>19696</td>\n",
       "      <td>0.383250</td>\n",
       "    </tr>\n",
       "    <tr>\n",
       "      <td>1</td>\n",
       "      <td>NaN</td>\n",
       "      <td>14460</td>\n",
       "      <td>0.281367</td>\n",
       "    </tr>\n",
       "    <tr>\n",
       "      <td>2</td>\n",
       "      <td>I have created a CV or Developer Story on Stac...</td>\n",
       "      <td>8906</td>\n",
       "      <td>0.173295</td>\n",
       "    </tr>\n",
       "    <tr>\n",
       "      <td>3</td>\n",
       "      <td>I've visited Stack Overflow, but haven't logge...</td>\n",
       "      <td>8012</td>\n",
       "      <td>0.155900</td>\n",
       "    </tr>\n",
       "    <tr>\n",
       "      <td>4</td>\n",
       "      <td>I'd never heard of Stack Overflow before today</td>\n",
       "      <td>196</td>\n",
       "      <td>0.003814</td>\n",
       "    </tr>\n",
       "    <tr>\n",
       "      <td>5</td>\n",
       "      <td>I've heard of Stack Overflow, but have never v...</td>\n",
       "      <td>122</td>\n",
       "      <td>0.002374</td>\n",
       "    </tr>\n",
       "  </tbody>\n",
       "</table>\n",
       "</div>"
      ],
      "text/plain": [
       "                                               index  count     Perct\n",
       "0  I have a login for Stack Overflow, but haven't...  19696  0.383250\n",
       "1                                                NaN  14460  0.281367\n",
       "2  I have created a CV or Developer Story on Stac...   8906  0.173295\n",
       "3  I've visited Stack Overflow, but haven't logge...   8012  0.155900\n",
       "4     I'd never heard of Stack Overflow before today    196  0.003814\n",
       "5  I've heard of Stack Overflow, but have never v...    122  0.002374"
      ]
     },
     "execution_count": 20,
     "metadata": {},
     "output_type": "execute_result"
    }
   ],
   "source": [
    "Describes=df.StackOverflowDescribes.value_counts(dropna=False).reset_index()\n",
    "Describes.rename(columns={'StackOverflowDescribes':'count'},inplace=True)\n",
    "Describes['Perct']=Describes['count']/np.sum(Describes['count'])\n",
    "Describes"
   ]
  },
  {
   "cell_type": "code",
   "execution_count": 21,
   "metadata": {},
   "outputs": [
    {
     "data": {
      "text/plain": [
       "<matplotlib.axes._subplots.AxesSubplot at 0x1e495906108>"
      ]
     },
     "execution_count": 21,
     "metadata": {},
     "output_type": "execute_result"
    },
    {
     "data": {
      "image/png": "[encoded data removed]",
      "text/plain": [
       "<Figure size 432x288 with 1 Axes>"
      ]
     },
     "metadata": {
      "needs_background": "light"
     },
     "output_type": "display_data"
    }
   ],
   "source": [
    "df.StackOverflowDescribes.value_counts(dropna=False).plot(kind='bar')\n"
   ]
  },
  {
   "cell_type": "markdown",
   "metadata": {},
   "source": [
    "About 38% of respondents have a login for Stack Overflow, but haven't created a CV or Developer Story and 17% of them have created a CV or Developer Story on Stack Overflow. This part accounts for 56% of the respondents ,approximately 28% of the data is missing.\n",
    "\n",
    "But registration is only the first step. Next we will study activity level on StackOverflow.The survey include user activities, including finding answers, copying code, searching job, asking questions,answering questions, and participating in discussions."
   ]
  },
  {
   "cell_type": "code",
   "execution_count": 23,
   "metadata": {},
   "outputs": [
    {
     "data": {
      "text/plain": [
       "{'StackOverflowFoundAnswer': array(['At least once each week', 'Several times', 'Once or twice', nan,\n",
       "        'At least once each day', \"Haven't done at all\"], dtype=object),\n",
       " 'StackOverflowCopiedCode': array([\"Haven't done at all\", 'Several times', nan, 'Once or twice',\n",
       "        'At least once each week', 'At least once each day'], dtype=object),\n",
       " 'StackOverflowJobListing': array(['Once or twice', \"Haven't done at all\", 'At least once each week',\n",
       "        nan, 'Several times', 'At least once each day'], dtype=object),\n",
       " 'StackOverflowCompanyPage': array([\"Haven't done at all\", 'Once or twice', 'Several times', nan,\n",
       "        'At least once each week', 'At least once each day'], dtype=object),\n",
       " 'StackOverflowJobSearch': array([\"Haven't done at all\", 'Once or twice', 'At least once each week',\n",
       "        nan, 'Several times', 'At least once each day'], dtype=object),\n",
       " 'StackOverflowNewQuestion': array(['Several times', \"Haven't done at all\", nan, 'Once or twice',\n",
       "        'At least once each week', 'At least once each day'], dtype=object),\n",
       " 'StackOverflowAnswer': array(['Several times', 'At least once each day', nan,\n",
       "        \"Haven't done at all\", 'Once or twice', 'At least once each week'],\n",
       "       dtype=object),\n",
       " 'StackOverflowMetaChat': array(['Once or twice', 'At least once each week',\n",
       "        'At least once each day', nan, \"Haven't done at all\",\n",
       "        'Several times'], dtype=object)}"
      ]
     },
     "execution_count": 23,
     "metadata": {},
     "output_type": "execute_result"
    }
   ],
   "source": [
    "columns_active = ['StackOverflowFoundAnswer', 'StackOverflowCopiedCode', \n",
    "                    'StackOverflowJobListing', 'StackOverflowCompanyPage', \n",
    "                    'StackOverflowJobSearch', 'StackOverflowNewQuestion', \n",
    "                    'StackOverflowAnswer', 'StackOverflowMetaChat']\n",
    "\n",
    "data_type = {}\n",
    "for col in columns_active:\n",
    "    data_type[col] = df[col].unique()\n",
    "\n",
    "data_type"
   ]
  },
  {
   "cell_type": "markdown",
   "metadata": {},
   "source": [
    "According to datatype, we know that: The data is categorical data and each column has missing data so Replace the frequency with a number.The numbers represent activity level and are divided into 0, 1, 2, 3 and 4. It is not a true frequency ,Replace the missing value with 0.\n",
    "\n",
    "There are two reasons for choosing this method.First, the respondent did not answer the question most likely because he did not use StackOverflow. Second, I don't want to overestimate the activeness of the respondents."
   ]
  },
  {
   "cell_type": "code",
   "execution_count": 26,
   "metadata": {},
   "outputs": [
    {
     "data": {
      "text/html": [
       "<div>\n",
       "<style scoped>\n",
       "    .dataframe tbody tr th:only-of-type {\n",
       "        vertical-align: middle;\n",
       "    }\n",
       "\n",
       "    .dataframe tbody tr th {\n",
       "        vertical-align: top;\n",
       "    }\n",
       "\n",
       "    .dataframe thead th {\n",
       "        text-align: right;\n",
       "    }\n",
       "</style>\n",
       "<table border=\"1\" class=\"dataframe\">\n",
       "  <thead>\n",
       "    <tr style=\"text-align: right;\">\n",
       "      <th></th>\n",
       "      <th>StackOverflowFoundAnswer</th>\n",
       "      <th>StackOverflowCopiedCode</th>\n",
       "      <th>StackOverflowJobListing</th>\n",
       "      <th>StackOverflowCompanyPage</th>\n",
       "      <th>StackOverflowJobSearch</th>\n",
       "      <th>StackOverflowNewQuestion</th>\n",
       "      <th>StackOverflowAnswer</th>\n",
       "      <th>StackOverflowMetaChat</th>\n",
       "    </tr>\n",
       "  </thead>\n",
       "  <tbody>\n",
       "    <tr>\n",
       "      <td>0</td>\n",
       "      <td>3.0</td>\n",
       "      <td>0.0</td>\n",
       "      <td>1.0</td>\n",
       "      <td>0.0</td>\n",
       "      <td>0.0</td>\n",
       "      <td>2.0</td>\n",
       "      <td>2.0</td>\n",
       "      <td>1.0</td>\n",
       "    </tr>\n",
       "    <tr>\n",
       "      <td>1</td>\n",
       "      <td>2.0</td>\n",
       "      <td>2.0</td>\n",
       "      <td>1.0</td>\n",
       "      <td>1.0</td>\n",
       "      <td>1.0</td>\n",
       "      <td>0.0</td>\n",
       "      <td>2.0</td>\n",
       "      <td>3.0</td>\n",
       "    </tr>\n",
       "    <tr>\n",
       "      <td>2</td>\n",
       "      <td>1.0</td>\n",
       "      <td>0.0</td>\n",
       "      <td>0.0</td>\n",
       "      <td>0.0</td>\n",
       "      <td>0.0</td>\n",
       "      <td>0.0</td>\n",
       "      <td>4.0</td>\n",
       "      <td>4.0</td>\n",
       "    </tr>\n",
       "    <tr>\n",
       "      <td>3</td>\n",
       "      <td>3.0</td>\n",
       "      <td>2.0</td>\n",
       "      <td>3.0</td>\n",
       "      <td>2.0</td>\n",
       "      <td>3.0</td>\n",
       "      <td>2.0</td>\n",
       "      <td>4.0</td>\n",
       "      <td>4.0</td>\n",
       "    </tr>\n",
       "    <tr>\n",
       "      <td>4</td>\n",
       "      <td>0.0</td>\n",
       "      <td>0.0</td>\n",
       "      <td>0.0</td>\n",
       "      <td>0.0</td>\n",
       "      <td>0.0</td>\n",
       "      <td>0.0</td>\n",
       "      <td>0.0</td>\n",
       "      <td>0.0</td>\n",
       "    </tr>\n",
       "  </tbody>\n",
       "</table>\n",
       "</div>"
      ],
      "text/plain": [
       "   StackOverflowFoundAnswer  StackOverflowCopiedCode  StackOverflowJobListing  \\\n",
       "0                       3.0                      0.0                      1.0   \n",
       "1                       2.0                      2.0                      1.0   \n",
       "2                       1.0                      0.0                      0.0   \n",
       "3                       3.0                      2.0                      3.0   \n",
       "4                       0.0                      0.0                      0.0   \n",
       "\n",
       "   StackOverflowCompanyPage  StackOverflowJobSearch  StackOverflowNewQuestion  \\\n",
       "0                       0.0                     0.0                       2.0   \n",
       "1                       1.0                     1.0                       0.0   \n",
       "2                       0.0                     0.0                       0.0   \n",
       "3                       2.0                     3.0                       2.0   \n",
       "4                       0.0                     0.0                       0.0   \n",
       "\n",
       "   StackOverflowAnswer  StackOverflowMetaChat  \n",
       "0                  2.0                    1.0  \n",
       "1                  2.0                    3.0  \n",
       "2                  4.0                    4.0  \n",
       "3                  4.0                    4.0  \n",
       "4                  0.0                    0.0  "
      ]
     },
     "execution_count": 26,
     "metadata": {},
     "output_type": "execute_result"
    }
   ],
   "source": [
    "replace_dict = {\"Haven't done at all\": 0, \"Once or twice\": 1, \"Several times\": 2, \n",
    "                \"At least once each week\": 3, \"At least once each day\": 4}\n",
    "\n",
    "active_df = df[columns_active].copy()\n",
    "for col in columns_active:\n",
    "    active_df[col].replace(replace_dict, inplace=True)\n",
    "active_df.fillna(0, axis=0, inplace=True)    \n",
    "active_df[columns_active].head()"
   ]
  },
  {
   "cell_type": "markdown",
   "metadata": {},
   "source": [
    "Adding the Salary column in df to active_df is what we need for the question 2."
   ]
  },
  {
   "cell_type": "code",
   "execution_count": 27,
   "metadata": {},
   "outputs": [
    {
     "data": {
      "text/html": [
       "<div>\n",
       "<style scoped>\n",
       "    .dataframe tbody tr th:only-of-type {\n",
       "        vertical-align: middle;\n",
       "    }\n",
       "\n",
       "    .dataframe tbody tr th {\n",
       "        vertical-align: top;\n",
       "    }\n",
       "\n",
       "    .dataframe thead th {\n",
       "        text-align: right;\n",
       "    }\n",
       "</style>\n",
       "<table border=\"1\" class=\"dataframe\">\n",
       "  <thead>\n",
       "    <tr style=\"text-align: right;\">\n",
       "      <th></th>\n",
       "      <th>StackOverflowFoundAnswer</th>\n",
       "      <th>StackOverflowCopiedCode</th>\n",
       "      <th>StackOverflowJobListing</th>\n",
       "      <th>StackOverflowCompanyPage</th>\n",
       "      <th>StackOverflowJobSearch</th>\n",
       "      <th>StackOverflowNewQuestion</th>\n",
       "      <th>StackOverflowAnswer</th>\n",
       "      <th>StackOverflowMetaChat</th>\n",
       "      <th>Salary</th>\n",
       "    </tr>\n",
       "  </thead>\n",
       "  <tbody>\n",
       "    <tr>\n",
       "      <td>0</td>\n",
       "      <td>3.0</td>\n",
       "      <td>0.0</td>\n",
       "      <td>1.0</td>\n",
       "      <td>0.0</td>\n",
       "      <td>0.0</td>\n",
       "      <td>2.0</td>\n",
       "      <td>2.0</td>\n",
       "      <td>1.0</td>\n",
       "      <td>NaN</td>\n",
       "    </tr>\n",
       "    <tr>\n",
       "      <td>1</td>\n",
       "      <td>2.0</td>\n",
       "      <td>2.0</td>\n",
       "      <td>1.0</td>\n",
       "      <td>1.0</td>\n",
       "      <td>1.0</td>\n",
       "      <td>0.0</td>\n",
       "      <td>2.0</td>\n",
       "      <td>3.0</td>\n",
       "      <td>NaN</td>\n",
       "    </tr>\n",
       "    <tr>\n",
       "      <td>2</td>\n",
       "      <td>1.0</td>\n",
       "      <td>0.0</td>\n",
       "      <td>0.0</td>\n",
       "      <td>0.0</td>\n",
       "      <td>0.0</td>\n",
       "      <td>0.0</td>\n",
       "      <td>4.0</td>\n",
       "      <td>4.0</td>\n",
       "      <td>113750.0</td>\n",
       "    </tr>\n",
       "    <tr>\n",
       "      <td>3</td>\n",
       "      <td>3.0</td>\n",
       "      <td>2.0</td>\n",
       "      <td>3.0</td>\n",
       "      <td>2.0</td>\n",
       "      <td>3.0</td>\n",
       "      <td>2.0</td>\n",
       "      <td>4.0</td>\n",
       "      <td>4.0</td>\n",
       "      <td>NaN</td>\n",
       "    </tr>\n",
       "    <tr>\n",
       "      <td>4</td>\n",
       "      <td>0.0</td>\n",
       "      <td>0.0</td>\n",
       "      <td>0.0</td>\n",
       "      <td>0.0</td>\n",
       "      <td>0.0</td>\n",
       "      <td>0.0</td>\n",
       "      <td>0.0</td>\n",
       "      <td>0.0</td>\n",
       "      <td>NaN</td>\n",
       "    </tr>\n",
       "  </tbody>\n",
       "</table>\n",
       "</div>"
      ],
      "text/plain": [
       "   StackOverflowFoundAnswer  StackOverflowCopiedCode  StackOverflowJobListing  \\\n",
       "0                       3.0                      0.0                      1.0   \n",
       "1                       2.0                      2.0                      1.0   \n",
       "2                       1.0                      0.0                      0.0   \n",
       "3                       3.0                      2.0                      3.0   \n",
       "4                       0.0                      0.0                      0.0   \n",
       "\n",
       "   StackOverflowCompanyPage  StackOverflowJobSearch  StackOverflowNewQuestion  \\\n",
       "0                       0.0                     0.0                       2.0   \n",
       "1                       1.0                     1.0                       0.0   \n",
       "2                       0.0                     0.0                       0.0   \n",
       "3                       2.0                     3.0                       2.0   \n",
       "4                       0.0                     0.0                       0.0   \n",
       "\n",
       "   StackOverflowAnswer  StackOverflowMetaChat    Salary  \n",
       "0                  2.0                    1.0       NaN  \n",
       "1                  2.0                    3.0       NaN  \n",
       "2                  4.0                    4.0  113750.0  \n",
       "3                  4.0                    4.0       NaN  \n",
       "4                  0.0                    0.0       NaN  "
      ]
     },
     "execution_count": 27,
     "metadata": {},
     "output_type": "execute_result"
    }
   ],
   "source": [
    "#Adding a salary column in df to active_df for getting responents activity\n",
    "active_df['Salary'] = df['Salary']\n",
    "active_df.head()"
   ]
  },
  {
   "cell_type": "code",
   "execution_count": 28,
   "metadata": {},
   "outputs": [
    {
     "data": {
      "text/plain": [
       "<matplotlib.axes._subplots.AxesSubplot at 0x1e4959f9e08>"
      ]
     },
     "execution_count": 28,
     "metadata": {},
     "output_type": "execute_result"
    },
    {
     "data": {
      "image/png": "[encoded data removed]",
      "text/plain": [
       "<Figure size 432x288 with 1 Axes>"
      ]
     },
     "metadata": {
      "needs_background": "light"
     },
     "output_type": "display_data"
    }
   ],
   "source": [
    "#draw a histogram of salary column\n",
    "active_df['Salary'].hist()"
   ]
  },
  {
   "cell_type": "markdown",
   "metadata": {},
   "source": [
    "this graph shows the distribution of  respondents salary"
   ]
  },
  {
   "cell_type": "markdown",
   "metadata": {},
   "source": [
    "# 2. Handle missing data\n"
   ]
  },
  {
   "cell_type": "code",
   "execution_count": 30,
   "metadata": {},
   "outputs": [
    {
     "name": "stdout",
     "output_type": "stream",
     "text": [
      "0.7491632938978829\n",
      "12891\n"
     ]
    }
   ],
   "source": [
    "# view the average of missing value and number of rows without missing missing values in salary Column\n",
    "print(active_df['Salary'].isnull().mean())\n",
    "print(active_df['Salary'].notnull().sum())"
   ]
  },
  {
   "cell_type": "markdown",
   "metadata": {},
   "source": [
    "75% values of Salary Column of dataframe active_df are missing and delete these rows except 12891 rows"
   ]
  },
  {
   "cell_type": "code",
   "execution_count": 31,
   "metadata": {},
   "outputs": [
    {
     "data": {
      "text/html": [
       "<div>\n",
       "<style scoped>\n",
       "    .dataframe tbody tr th:only-of-type {\n",
       "        vertical-align: middle;\n",
       "    }\n",
       "\n",
       "    .dataframe tbody tr th {\n",
       "        vertical-align: top;\n",
       "    }\n",
       "\n",
       "    .dataframe thead th {\n",
       "        text-align: right;\n",
       "    }\n",
       "</style>\n",
       "<table border=\"1\" class=\"dataframe\">\n",
       "  <thead>\n",
       "    <tr style=\"text-align: right;\">\n",
       "      <th></th>\n",
       "      <th>StackOverflowFoundAnswer</th>\n",
       "      <th>StackOverflowCopiedCode</th>\n",
       "      <th>StackOverflowJobListing</th>\n",
       "      <th>StackOverflowCompanyPage</th>\n",
       "      <th>StackOverflowJobSearch</th>\n",
       "      <th>StackOverflowNewQuestion</th>\n",
       "      <th>StackOverflowAnswer</th>\n",
       "      <th>StackOverflowMetaChat</th>\n",
       "      <th>Salary</th>\n",
       "    </tr>\n",
       "  </thead>\n",
       "  <tbody>\n",
       "    <tr>\n",
       "      <td>count</td>\n",
       "      <td>12891.000000</td>\n",
       "      <td>12891.000000</td>\n",
       "      <td>12891.000000</td>\n",
       "      <td>12891.000000</td>\n",
       "      <td>12891.000000</td>\n",
       "      <td>12891.000000</td>\n",
       "      <td>12891.000000</td>\n",
       "      <td>12891.000000</td>\n",
       "      <td>12891.000000</td>\n",
       "    </tr>\n",
       "    <tr>\n",
       "      <td>mean</td>\n",
       "      <td>2.337367</td>\n",
       "      <td>1.173920</td>\n",
       "      <td>0.624777</td>\n",
       "      <td>0.310682</td>\n",
       "      <td>0.416182</td>\n",
       "      <td>0.433481</td>\n",
       "      <td>0.604996</td>\n",
       "      <td>0.190676</td>\n",
       "      <td>56298.480641</td>\n",
       "    </tr>\n",
       "    <tr>\n",
       "      <td>std</td>\n",
       "      <td>1.152654</td>\n",
       "      <td>1.069431</td>\n",
       "      <td>0.893040</td>\n",
       "      <td>0.679908</td>\n",
       "      <td>0.776007</td>\n",
       "      <td>0.707365</td>\n",
       "      <td>0.897140</td>\n",
       "      <td>0.565995</td>\n",
       "      <td>39880.905277</td>\n",
       "    </tr>\n",
       "    <tr>\n",
       "      <td>min</td>\n",
       "      <td>0.000000</td>\n",
       "      <td>0.000000</td>\n",
       "      <td>0.000000</td>\n",
       "      <td>0.000000</td>\n",
       "      <td>0.000000</td>\n",
       "      <td>0.000000</td>\n",
       "      <td>0.000000</td>\n",
       "      <td>0.000000</td>\n",
       "      <td>0.000000</td>\n",
       "    </tr>\n",
       "    <tr>\n",
       "      <td>25%</td>\n",
       "      <td>2.000000</td>\n",
       "      <td>0.000000</td>\n",
       "      <td>0.000000</td>\n",
       "      <td>0.000000</td>\n",
       "      <td>0.000000</td>\n",
       "      <td>0.000000</td>\n",
       "      <td>0.000000</td>\n",
       "      <td>0.000000</td>\n",
       "      <td>26440.371839</td>\n",
       "    </tr>\n",
       "    <tr>\n",
       "      <td>50%</td>\n",
       "      <td>2.000000</td>\n",
       "      <td>1.000000</td>\n",
       "      <td>0.000000</td>\n",
       "      <td>0.000000</td>\n",
       "      <td>0.000000</td>\n",
       "      <td>0.000000</td>\n",
       "      <td>0.000000</td>\n",
       "      <td>0.000000</td>\n",
       "      <td>50000.000000</td>\n",
       "    </tr>\n",
       "    <tr>\n",
       "      <td>75%</td>\n",
       "      <td>3.000000</td>\n",
       "      <td>2.000000</td>\n",
       "      <td>1.000000</td>\n",
       "      <td>0.000000</td>\n",
       "      <td>1.000000</td>\n",
       "      <td>1.000000</td>\n",
       "      <td>1.000000</td>\n",
       "      <td>0.000000</td>\n",
       "      <td>80000.000000</td>\n",
       "    </tr>\n",
       "    <tr>\n",
       "      <td>max</td>\n",
       "      <td>4.000000</td>\n",
       "      <td>4.000000</td>\n",
       "      <td>4.000000</td>\n",
       "      <td>4.000000</td>\n",
       "      <td>4.000000</td>\n",
       "      <td>4.000000</td>\n",
       "      <td>4.000000</td>\n",
       "      <td>4.000000</td>\n",
       "      <td>197000.000000</td>\n",
       "    </tr>\n",
       "  </tbody>\n",
       "</table>\n",
       "</div>"
      ],
      "text/plain": [
       "       StackOverflowFoundAnswer  StackOverflowCopiedCode  \\\n",
       "count              12891.000000             12891.000000   \n",
       "mean                   2.337367                 1.173920   \n",
       "std                    1.152654                 1.069431   \n",
       "min                    0.000000                 0.000000   \n",
       "25%                    2.000000                 0.000000   \n",
       "50%                    2.000000                 1.000000   \n",
       "75%                    3.000000                 2.000000   \n",
       "max                    4.000000                 4.000000   \n",
       "\n",
       "       StackOverflowJobListing  StackOverflowCompanyPage  \\\n",
       "count             12891.000000              12891.000000   \n",
       "mean                  0.624777                  0.310682   \n",
       "std                   0.893040                  0.679908   \n",
       "min                   0.000000                  0.000000   \n",
       "25%                   0.000000                  0.000000   \n",
       "50%                   0.000000                  0.000000   \n",
       "75%                   1.000000                  0.000000   \n",
       "max                   4.000000                  4.000000   \n",
       "\n",
       "       StackOverflowJobSearch  StackOverflowNewQuestion  StackOverflowAnswer  \\\n",
       "count            12891.000000              12891.000000         12891.000000   \n",
       "mean                 0.416182                  0.433481             0.604996   \n",
       "std                  0.776007                  0.707365             0.897140   \n",
       "min                  0.000000                  0.000000             0.000000   \n",
       "25%                  0.000000                  0.000000             0.000000   \n",
       "50%                  0.000000                  0.000000             0.000000   \n",
       "75%                  1.000000                  1.000000             1.000000   \n",
       "max                  4.000000                  4.000000             4.000000   \n",
       "\n",
       "       StackOverflowMetaChat         Salary  \n",
       "count           12891.000000   12891.000000  \n",
       "mean                0.190676   56298.480641  \n",
       "std                 0.565995   39880.905277  \n",
       "min                 0.000000       0.000000  \n",
       "25%                 0.000000   26440.371839  \n",
       "50%                 0.000000   50000.000000  \n",
       "75%                 0.000000   80000.000000  \n",
       "max                 4.000000  197000.000000  "
      ]
     },
     "execution_count": 31,
     "metadata": {},
     "output_type": "execute_result"
    }
   ],
   "source": [
    "#drop the missing values rows in active_df\n",
    "active_dropna = active_df.dropna()\n",
    "active_dropna.describe()"
   ]
  },
  {
   "cell_type": "markdown",
   "metadata": {},
   "source": [
    "# 3. Analyze and Visualize\n"
   ]
  },
  {
   "cell_type": "code",
   "execution_count": 27,
   "metadata": {},
   "outputs": [
    {
     "data": {
      "text/plain": [
       "(9.0, 0.0)"
      ]
     },
     "execution_count": 27,
     "metadata": {},
     "output_type": "execute_result"
    },
    {
     "data": {
      "image/png": "[encoded data removed]",
      "text/plain": [
       "<Figure size 432x288 with 2 Axes>"
      ]
     },
     "metadata": {
      "needs_background": "light"
     },
     "output_type": "display_data"
    }
   ],
   "source": [
    "ax=sns.heatmap(active_dropna.corr(), annot=True, fmt=\".2f\")\n",
    "bottom, top = ax.get_ylim()\n",
    "ax.set_ylim(bottom + 0.5, top - 0.5)\n"
   ]
  },
  {
   "cell_type": "markdown",
   "metadata": {},
   "source": [
    "# Observation of Question 2\n",
    "The correlation coefficient between salary and activity is small between -0.13 and 0.01.But the correlation within the three types of behavior is relatively high. For example, the correlation coefficient for proposing new questions and answering questions is 0.51, and the correlation coefficient with Meta is 0.31. Users who like to ask questions on StackOverflow are more likely to answer questions and participate in community discussions on meta or in chat.\n",
    "\n",
    "I proposed a new indicator, the active index, which is defined as the sum of the activity of the eight behaviors. The maximum value of the respondent's activity index is 32. Respondents with an activity index ranging from 3 to 6 accounted for the highest proportion."
   ]
  },
  {
   "cell_type": "code",
   "execution_count": 28,
   "metadata": {},
   "outputs": [
    {
     "data": {
      "image/png": "[encoded data removed]",
      "text/plain": [
       "<Figure size 432x288 with 1 Axes>"
      ]
     },
     "metadata": {
      "needs_background": "light"
     },
     "output_type": "display_data"
    }
   ],
   "source": [
    "active_dropna2 = active_dropna.copy()\n",
    "active_dropna2['Active index'] = active_dropna[columns_active].sum(axis=1)\n",
    "plt.hist(active_dropna2['Active index'], bins=11, range=(0,33))\n",
    "plt.xlabel('Active index')\n",
    "plt.ylabel('frequency')\n",
    "plt.show()"
   ]
  },
  {
   "cell_type": "code",
   "execution_count": 29,
   "metadata": {},
   "outputs": [
    {
     "data": {
      "image/png": "[encoded data removed]",
      "text/plain": [
       "<Figure size 432x288 with 1 Axes>"
      ]
     },
     "metadata": {
      "needs_background": "light"
     },
     "output_type": "display_data"
    }
   ],
   "source": [
    "plt.scatter(active_dropna2['Salary'], active_dropna2['Active index'])\n",
    "plt.xlabel('Salary')\n",
    "plt.ylabel('Active index')\n",
    "plt.show()"
   ]
  },
  {
   "cell_type": "markdown",
   "metadata": {},
   "source": [
    "This scatter plot shows that there is no linear relationship between Active index and Salary"
   ]
  },
  {
   "cell_type": "markdown",
   "metadata": {},
   "source": [
    "# Question 3 Is the status of the user account related to user behavior? "
   ]
  },
  {
   "cell_type": "markdown",
   "metadata": {},
   "source": [
    "## 1. Gather Necessary Data \n",
    "\n",
    "Through the StackOverflowDescribes column in df, we can classify the user account states that have used Stack Overflow into three categories:\n",
    "\n",
    "1. I've visited Stack Overflow, but haven't logged in/created an account\n",
    "2. I have a login for Stack Overflow, but haven't created a CV or Developer Story\n",
    "3. I have created a CV or Developer Story on Stack Overflow\n",
    "According to the above serial number, they are respectively referred to as the first class, the second class and the third class of users.\n",
    "\n",
    "And adding the StackOverflowDescribes column in df to active_df is what we need for the third problem."
   ]
  },
  {
   "cell_type": "code",
   "execution_count": 34,
   "metadata": {},
   "outputs": [
    {
     "data": {
      "text/html": [
       "<div>\n",
       "<style scoped>\n",
       "    .dataframe tbody tr th:only-of-type {\n",
       "        vertical-align: middle;\n",
       "    }\n",
       "\n",
       "    .dataframe tbody tr th {\n",
       "        vertical-align: top;\n",
       "    }\n",
       "\n",
       "    .dataframe thead th {\n",
       "        text-align: right;\n",
       "    }\n",
       "</style>\n",
       "<table border=\"1\" class=\"dataframe\">\n",
       "  <thead>\n",
       "    <tr style=\"text-align: right;\">\n",
       "      <th></th>\n",
       "      <th>StackOverflowFoundAnswer</th>\n",
       "      <th>StackOverflowCopiedCode</th>\n",
       "      <th>StackOverflowJobListing</th>\n",
       "      <th>StackOverflowCompanyPage</th>\n",
       "      <th>StackOverflowJobSearch</th>\n",
       "      <th>StackOverflowNewQuestion</th>\n",
       "      <th>StackOverflowAnswer</th>\n",
       "      <th>StackOverflowMetaChat</th>\n",
       "      <th>Describes</th>\n",
       "    </tr>\n",
       "  </thead>\n",
       "  <tbody>\n",
       "    <tr>\n",
       "      <td>0</td>\n",
       "      <td>3.0</td>\n",
       "      <td>0.0</td>\n",
       "      <td>1.0</td>\n",
       "      <td>0.0</td>\n",
       "      <td>0.0</td>\n",
       "      <td>2.0</td>\n",
       "      <td>2.0</td>\n",
       "      <td>1.0</td>\n",
       "      <td>I have created a CV or Developer Story on Stac...</td>\n",
       "    </tr>\n",
       "    <tr>\n",
       "      <td>1</td>\n",
       "      <td>2.0</td>\n",
       "      <td>2.0</td>\n",
       "      <td>1.0</td>\n",
       "      <td>1.0</td>\n",
       "      <td>1.0</td>\n",
       "      <td>0.0</td>\n",
       "      <td>2.0</td>\n",
       "      <td>3.0</td>\n",
       "      <td>I have created a CV or Developer Story on Stac...</td>\n",
       "    </tr>\n",
       "    <tr>\n",
       "      <td>2</td>\n",
       "      <td>1.0</td>\n",
       "      <td>0.0</td>\n",
       "      <td>0.0</td>\n",
       "      <td>0.0</td>\n",
       "      <td>0.0</td>\n",
       "      <td>0.0</td>\n",
       "      <td>4.0</td>\n",
       "      <td>4.0</td>\n",
       "      <td>I have created a CV or Developer Story on Stac...</td>\n",
       "    </tr>\n",
       "    <tr>\n",
       "      <td>3</td>\n",
       "      <td>3.0</td>\n",
       "      <td>2.0</td>\n",
       "      <td>3.0</td>\n",
       "      <td>2.0</td>\n",
       "      <td>3.0</td>\n",
       "      <td>2.0</td>\n",
       "      <td>4.0</td>\n",
       "      <td>4.0</td>\n",
       "      <td>I have created a CV or Developer Story on Stac...</td>\n",
       "    </tr>\n",
       "    <tr>\n",
       "      <td>4</td>\n",
       "      <td>0.0</td>\n",
       "      <td>0.0</td>\n",
       "      <td>0.0</td>\n",
       "      <td>0.0</td>\n",
       "      <td>0.0</td>\n",
       "      <td>0.0</td>\n",
       "      <td>0.0</td>\n",
       "      <td>0.0</td>\n",
       "      <td>NaN</td>\n",
       "    </tr>\n",
       "  </tbody>\n",
       "</table>\n",
       "</div>"
      ],
      "text/plain": [
       "   StackOverflowFoundAnswer  StackOverflowCopiedCode  StackOverflowJobListing  \\\n",
       "0                       3.0                      0.0                      1.0   \n",
       "1                       2.0                      2.0                      1.0   \n",
       "2                       1.0                      0.0                      0.0   \n",
       "3                       3.0                      2.0                      3.0   \n",
       "4                       0.0                      0.0                      0.0   \n",
       "\n",
       "   StackOverflowCompanyPage  StackOverflowJobSearch  StackOverflowNewQuestion  \\\n",
       "0                       0.0                     0.0                       2.0   \n",
       "1                       1.0                     1.0                       0.0   \n",
       "2                       0.0                     0.0                       0.0   \n",
       "3                       2.0                     3.0                       2.0   \n",
       "4                       0.0                     0.0                       0.0   \n",
       "\n",
       "   StackOverflowAnswer  StackOverflowMetaChat  \\\n",
       "0                  2.0                    1.0   \n",
       "1                  2.0                    3.0   \n",
       "2                  4.0                    4.0   \n",
       "3                  4.0                    4.0   \n",
       "4                  0.0                    0.0   \n",
       "\n",
       "                                           Describes  \n",
       "0  I have created a CV or Developer Story on Stac...  \n",
       "1  I have created a CV or Developer Story on Stac...  \n",
       "2  I have created a CV or Developer Story on Stac...  \n",
       "3  I have created a CV or Developer Story on Stac...  \n",
       "4                                                NaN  "
      ]
     },
     "execution_count": 34,
     "metadata": {},
     "output_type": "execute_result"
    }
   ],
   "source": [
    "active_df_info = active_df.copy()\n",
    "active_df_info['Describes'] = df['StackOverflowDescribes']\n",
    "active_df_info.drop('Salary', axis = 1, inplace=True)\n",
    "active_df_info.head()"
   ]
  },
  {
   "cell_type": "markdown",
   "metadata": {},
   "source": [
    "## 2.Handle Missing Value"
   ]
  },
  {
   "cell_type": "code",
   "execution_count": 39,
   "metadata": {},
   "outputs": [
    {
     "name": "stdout",
     "output_type": "stream",
     "text": [
      "0.0\n",
      "36932\n"
     ]
    }
   ],
   "source": [
    "print(active_df_info['Describes'].isnull().mean())\n",
    "print(active_df_info['Describes'].notnull().sum())"
   ]
  },
  {
   "cell_type": "markdown",
   "metadata": {},
   "source": [
    "only 28% values are missing values in Describes column and I delete these rows except 36932 rows because there is no other way to replace"
   ]
  },
  {
   "cell_type": "code",
   "execution_count": 40,
   "metadata": {},
   "outputs": [],
   "source": [
    "active_df_info.dropna(inplace=True)\n"
   ]
  },
  {
   "cell_type": "code",
   "execution_count": 41,
   "metadata": {},
   "outputs": [],
   "source": [
    "Describes_list = active_df_info['Describes'].unique()\n"
   ]
  },
  {
   "cell_type": "markdown",
   "metadata": {},
   "source": [
    "I filter the data of the three types of respondents according to the status of the account"
   ]
  },
  {
   "cell_type": "code",
   "execution_count": 42,
   "metadata": {},
   "outputs": [],
   "source": [
    "active_avg = []\n",
    "for des in Describes_list:\n",
    "    list1 = []\n",
    "    for col in columns_active:\n",
    "        list1.append(active_df_info[active_df_info['Describes'] == des][col].mean())\n",
    "    active_avg.append(list1)"
   ]
  },
  {
   "cell_type": "markdown",
   "metadata": {},
   "source": [
    "## 3. Analyze and Visualize\n",
    "\n",
    "Finally, the activity curve of the three types of respondents is drawn.\n",
    "\n"
   ]
  },
  {
   "cell_type": "code",
   "execution_count": 43,
   "metadata": {},
   "outputs": [
    {
     "data": {
      "image/png": "[encoded data removed]",
      "text/plain": [
       "<Figure size 432x288 with 1 Axes>"
      ]
     },
     "metadata": {
      "needs_background": "light"
     },
     "output_type": "display_data"
    }
   ],
   "source": [
    "for i in range(len(active_avg[0:3])):\n",
    "    plt.plot(list(range(len(columns_active))), active_avg[i], label=Describes_list[i])\n",
    "plt.legend(frameon=False, bbox_to_anchor=(1.05, 1), loc=2, borderaxespad=0.,ncol=1)\n",
    "plt.xticks(list(range(len(columns_active))), columns_active, rotation=90)\n",
    "plt.ylabel('average activity level')\n",
    "plt.ylim([0, 2.6])\n",
    "plt.show()"
   ]
  },
  {
   "cell_type": "markdown",
   "metadata": {},
   "source": [
    "# Observation of Question 3\n",
    "\n",
    "Above plot shows \n",
    "1. the frequency of finding answers and copying codes on the website is not much different.\n",
    "2. The second class and the third class of users are not active in the behavior related to job hunting. However, the activity   of the first type of users is significantly higher.\n",
    "3. The frequency of the third class users participating in content creation is very low. The second class of users are more active. The first class of users is the most active.\n",
    "\n",
    "According to the second point, it can be speculated that when a user's account creates a CV or developer story, he is more likely to find a job on Stack Overflow. This provides an idea for ad serving to show users some job ads that match their profile."
   ]
  },
  {
   "cell_type": "markdown",
   "metadata": {},
   "source": [
    "The main findings of the code can be found at the post available [here](https://medium.com/new-story)"
   ]
  },
  {
   "cell_type": "raw",
   "metadata": {},
   "source": []
  }
 ],
 "metadata": {
  "kernelspec": {
   "display_name": "Python 3",
   "language": "python",
   "name": "python3"
  },
  "language_info": {
   "codemirror_mode": {
    "name": "ipython",
    "version": 3
   },
   "file_extension": ".py",
   "mimetype": "text/x-python",
   "name": "python",
   "nbconvert_exporter": "python",
   "pygments_lexer": "ipython3",
   "version": "3.7.4"
  }
 },
 "nbformat": 4,
 "nbformat_minor": 2
}
